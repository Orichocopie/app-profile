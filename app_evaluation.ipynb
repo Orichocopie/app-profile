{
 "cells": [
  {
   "cell_type": "markdown",
   "metadata": {},
   "source": [
    "# Profitable App Profiles for the App Store and Google Play Market"
   ]
  },
  {
   "cell_type": "markdown",
   "metadata": {},
   "source": [
    "## Opening and Exploring the Data\n",
    "\n",
    "As of September 2018, there were approximately 2 million IOS apps available on the App Store and 2.1 million Android apps on Google Play\n",
    "\n",
    "Source: Statista Collecting data for over four million apps requires a significant amount of time and money, I we'll try to analyze a sample of data instead. To avoid spending resources with collecting new data ourselves, we should first try to see whether we can find any relevant existing data at no cost. Luckily, these are two data sets that seem suitable for our purpose:\n",
    "\n",
    "A data set containing data about approximately ten thousand Android apps from Google Play. You can download the data set directly from this link. A data set containing data about approximately seven thousand iOS apps from the App Store. You can download the data set directly from this link. Let's start by opening the two data sets and then continue with exploring the data."
   ]
  },
  {
   "cell_type": "code",
   "execution_count": 1,
   "metadata": {},
   "outputs": [],
   "source": [
    "import pandas as pd\n",
    "import numpy as np\n"
   ]
  },
  {
   "cell_type": "code",
   "execution_count": 2,
   "metadata": {},
   "outputs": [],
   "source": [
    "from csv import reader\n",
    "\n",
    "### The Google Play data set ###\n",
    "with open('googleplaystore.csv', encoding='utf-8') as opened_file:\n",
    "    read_file = reader(opened_file)\n",
    "    android = list(read_file)\n",
    "    android_header = android[0]\n",
    "    android = android[1:]\n",
    "\n",
    "### The Appstore data set ###\n",
    "with open('AppleStore.csv', encoding = 'utf-8') as opened_file:\n",
    "    read_file = reader(opened_file)\n",
    "    ios = list(read_file)\n",
    "    ios_header = ios[0]\n",
    "    ios = ios[1:]"
   ]
  },
  {
   "cell_type": "markdown",
   "metadata": {},
   "source": [
    "To make it easier to explore the two data sets, I frist wrote a function named explore_data() that we can use repeatedly to explore rows and columns for any data set."
   ]
  },
  {
   "cell_type": "code",
   "execution_count": 3,
   "metadata": {},
   "outputs": [],
   "source": [
    "def explore_data(dataset, start, end, rows_and_columns=False):\n",
    "    dataset_slice = dataset[start:end]\n",
    "    for row in dataset_slice:\n",
    "        print(row)\n",
    "        print('\\n')\n",
    "    if rows_and_columns:\n",
    "        print('Number of rows: ', len(dataset))\n",
    "        print('Number of columns: ', len(dataset[0]))\n",
    "    print(android_header)\n",
    "    print('\\n')\n",
    "    explore_data(android, 0, 3, True)"
   ]
  },
  {
   "cell_type": "markdown",
   "metadata": {},
   "source": [
    "## Deleting Wrong Data\n",
    "\n",
    "The Google Play data set has an error for row 10472. Let's print this row and compare it against the header and another row that is correct."
   ]
  },
  {
   "cell_type": "code",
   "execution_count": 4,
   "metadata": {},
   "outputs": [
    {
     "name": "stdout",
     "output_type": "stream",
     "text": [
      "['Life Made WI-Fi Touchscreen Photo Frame', '1.9', '19', '3', '1,000+', 'Free', '0', 'Everyone', '', '11-Feb-18', '1.0.19', '4.0 and up', '']\n",
      "\n",
      "\n",
      "['App', 'Category', 'Rating', 'Reviews', 'Size', 'Installs', 'Type', 'Price', 'Content Rating', 'Genres', 'Last Updated', 'Current Ver', 'Android Ver']\n",
      "\n",
      "\n",
      "['Photo Editor & Candy Camera & Grid & ScrapBook', 'ART_AND_DESIGN', '4.1', '159', '19M', '10,000+', 'Free', '0', 'Everyone', 'Art & Design', '7-Jan-18', '1.0.0', '4.0.3 and up']\n"
     ]
    }
   ],
   "source": [
    "print(android[10472]) #wrong row\n",
    "print('\\n')\n",
    "print(android_header)\n",
    "print('\\n')\n",
    "print(android[0]) #correct row"
   ]
  },
  {
   "cell_type": "code",
   "execution_count": 5,
   "metadata": {},
   "outputs": [
    {
     "name": "stdout",
     "output_type": "stream",
     "text": [
      "10841\n",
      "10840\n"
     ]
    }
   ],
   "source": [
    "print(len(android))\n",
    "del android[10472]\n",
    "print(len(android))"
   ]
  },
  {
   "cell_type": "markdown",
   "metadata": {},
   "source": [
    "## Removing Duplicate Entries\n",
    "\n",
    "### Part One \n",
    "\n",
    "If we explore the Google Paly data set long enough, we'll find that some apps have more than one entry. For instance, the application Instagram has four entries:"
   ]
  },
  {
   "cell_type": "code",
   "execution_count": 6,
   "metadata": {},
   "outputs": [
    {
     "name": "stdout",
     "output_type": "stream",
     "text": [
      "['Instagram', 'SOCIAL', '4.5', '66577313', 'Varies with device', '1,000,000,000+', 'Free', '0', 'Teen', 'Social', '31-Jul-18', 'Varies with device', 'Varies with device']\n",
      "['Instagram', 'SOCIAL', '4.5', '66577446', 'Varies with device', '1,000,000,000+', 'Free', '0', 'Teen', 'Social', '31-Jul-18', 'Varies with device', 'Varies with device']\n",
      "['Instagram', 'SOCIAL', '4.5', '66577313', 'Varies with device', '1,000,000,000+', 'Free', '0', 'Teen', 'Social', '31-Jul-18', 'Varies with device', 'Varies with device']\n",
      "['Instagram', 'SOCIAL', '4.5', '66509917', 'Varies with device', '1,000,000,000+', 'Free', '0', 'Teen', 'Social', '31-Jul-18', 'Varies with device', 'Varies with device']\n"
     ]
    }
   ],
   "source": [
    "for app in android:\n",
    "    name = app[0]\n",
    "    if name == 'Instagram':\n",
    "        print(app)\n",
    "        "
   ]
  },
  {
   "cell_type": "markdown",
   "metadata": {},
   "source": [
    "In total, there are 1,181 cases where an app occurs more than once on Android:"
   ]
  },
  {
   "cell_type": "code",
   "execution_count": 7,
   "metadata": {},
   "outputs": [
    {
     "name": "stdout",
     "output_type": "stream",
     "text": [
      "Number of duplicate apps:  1181\n",
      "\n",
      "\n",
      "Number of uniquew apps:  9659\n"
     ]
    }
   ],
   "source": [
    "duplicate_apps = []\n",
    "unique_apps = []\n",
    "\n",
    "for app in android:\n",
    "    name = app[0]\n",
    "    if name in unique_apps:\n",
    "        duplicate_apps.append(name)\n",
    "    else:\n",
    "        unique_apps.append(name)\n",
    "print('Number of duplicate apps: ', len(duplicate_apps))\n",
    "print('\\n')\n",
    "print('Number of uniquew apps: ' , len(unique_apps))"
   ]
  },
  {
   "cell_type": "code",
   "execution_count": 8,
   "metadata": {},
   "outputs": [
    {
     "name": "stdout",
     "output_type": "stream",
     "text": [
      "Number of duplicate apps:  0\n",
      "\n",
      "\n",
      "Number of uniquew apps:  7197\n"
     ]
    }
   ],
   "source": [
    "duplicate_apps = []\n",
    "unique_apps = []\n",
    "\n",
    "for app in ios:\n",
    "    name = app[0]\n",
    "    if name in unique_apps:\n",
    "        duplicate_apps.append(name)\n",
    "    else:\n",
    "        unique_apps.append(name)\n",
    "        \n",
    "print('Number of duplicate apps: ', len(duplicate_apps))\n",
    "print('\\n')\n",
    "print('Number of uniquew apps: ' , len(unique_apps))"
   ]
  },
  {
   "cell_type": "markdown",
   "metadata": {},
   "source": [
    "### Part two \n",
    "\n",
    "To remove the duplicates, I will do the following:\n",
    "\n",
    "- Create a dictionary, where each dictionary key is unique app name and the corresponding dictionary value is the highest number of reviews of that apps.\n",
    "- Use the information stored in the dictionary and create a new dataset, which will have only one entry per app (and for each app, I'll only select the entry with the highest number of reviews)"
   ]
  },
  {
   "cell_type": "code",
   "execution_count": 9,
   "metadata": {},
   "outputs": [],
   "source": [
    "reviews_max = {}\n",
    "\n",
    "for app in android:\n",
    "    name = app[0]\n",
    "    n_review = float(app[3])\n",
    "    \n",
    "    if name in reviews_max and n_review > reviews_max[name]:\n",
    "        reviews_max[name] = n_review\n",
    "    elif name not in reviews_max:\n",
    "        reviews_max[name] = n_review"
   ]
  },
  {
   "cell_type": "markdown",
   "metadata": {},
   "source": [
    "In the previous code cell, I found that there are 1,181 cases where an app occurs more than once, so the length of our dictionary (of unique apps) should be equal to the difference between the length of our data and 1,181."
   ]
  },
  {
   "cell_type": "code",
   "execution_count": 10,
   "metadata": {},
   "outputs": [
    {
     "name": "stdout",
     "output_type": "stream",
     "text": [
      "Expected length:  9658\n",
      "Actual length:  9659\n"
     ]
    }
   ],
   "source": [
    "print('Expected length: ', len(android[1:]) - 1181)\n",
    "print('Actual length: ', len(reviews_max))"
   ]
  },
  {
   "cell_type": "code",
   "execution_count": 11,
   "metadata": {},
   "outputs": [],
   "source": [
    "android_clean = []\n",
    "already_added = []\n",
    "\n",
    "for app in android:\n",
    "    name = app[0]\n",
    "    n_review = float(app[3])\n",
    "    \n",
    "    if (reviews_max[name] == n_review) and (name not in already_added):\n",
    "        android_clean.append(app)\n",
    "        already_added.append(app)\n"
   ]
  },
  {
   "cell_type": "markdown",
   "metadata": {},
   "source": [
    "Now let's quickly explore the new data set, and confirm that the number of rows is 9,660."
   ]
  },
  {
   "cell_type": "markdown",
   "metadata": {},
   "source": [
    "## Removing Non-English Apps"
   ]
  },
  {
   "cell_type": "markdown",
   "metadata": {},
   "source": [
    "### Part One\n",
    "\n",
    "Remember we use English for the apps we develop at our company, and I'd like to analyze only the apps that are designed for an English-speking audience. However, if I explore the data long enough, I'll find that both datasets have apps with names that suggest they are not designed for an English-speadking audience.\n",
    "\n",
    "We're not interested in keeping these apps, so we'll remove them. One way to do this is to remove each app with a name containing a symbol that isn't commonly used in English text — English text usually includes letters from the English alphabet, numbers composed of digits from 0 to 9, punctuation marks (., !, ?, ;), and other symbols (+, *, /)."
   ]
  },
  {
   "cell_type": "code",
   "execution_count": 12,
   "metadata": {},
   "outputs": [
    {
     "name": "stdout",
     "output_type": "stream",
     "text": [
      "爱奇艺PPS -《欢乐颂2》电视剧热播\n",
      "【脱出ゲーム】絶対に最後までプレイしないで 〜謎解き＆ブロックパズル〜\n",
      "Freeland AH\n",
      "SONIC Drive-In\n"
     ]
    }
   ],
   "source": [
    "print(ios[813][1])\n",
    "print(ios[6731][1])\n",
    "\n",
    "print(android_clean[4412][0])\n",
    "print(android_clean[7940][0])"
   ]
  },
  {
   "cell_type": "markdown",
   "metadata": {},
   "source": [
    "All these characters that are specific to English texts are encoded using the ASCII standard. Each ASCII character has a corresponding number between 0 and 127 associated with it, and we can take advantage of that to build a function that checks an app name and tells us whether it contains non-ASCII characters.\n",
    "I built this function below, and we use the built-in  ord() function to find out the corresponding excoding number of each character."
   ]
  },
  {
   "cell_type": "code",
   "execution_count": 13,
   "metadata": {},
   "outputs": [
    {
     "name": "stdout",
     "output_type": "stream",
     "text": [
      "True\n",
      "False\n"
     ]
    }
   ],
   "source": [
    "def is_english(string):\n",
    "    \n",
    "    for character in string:\n",
    "        if ord(character) > 127:\n",
    "            return False\n",
    "        return True\n",
    "print(is_english('Instagram'))\n",
    "print(is_english('爱奇艺PPS -《欢乐颂2》电视剧热播'))"
   ]
  },
  {
   "cell_type": "markdown",
   "metadata": {},
   "source": [
    "The function seems to work fine, but some English app names use emojis or other symbols that fall outside of the ASCII range. Because of this, we'll remove usefull apps if we use the function in its current form."
   ]
  },
  {
   "cell_type": "code",
   "execution_count": 14,
   "metadata": {},
   "outputs": [
    {
     "name": "stdout",
     "output_type": "stream",
     "text": [
      "True\n",
      "True\n",
      "8482\n",
      "128540\n"
     ]
    }
   ],
   "source": [
    "print(is_english('Docs To Go™ Free Office Suite'))\n",
    "print(is_english('Instachat 😜'))\n",
    "\n",
    "print(ord('™'))\n",
    "print(ord('😜'))"
   ]
  },
  {
   "cell_type": "markdown",
   "metadata": {},
   "source": [
    "### Part two\n",
    "\n",
    "To minimize the impact of data loss, we'll only remove an app if its name has more than three non-ASCII characters:"
   ]
  },
  {
   "cell_type": "code",
   "execution_count": 15,
   "metadata": {},
   "outputs": [],
   "source": [
    "def is_english(string):\n",
    "    non_ascii = 0\n",
    "    \n",
    "    for character in string:\n",
    "        if ord(character) > 127:\n",
    "            non_ascii += 1\n",
    "    if non_ascii > 3:\n",
    "        return False\n",
    "    else:\n",
    "        return True"
   ]
  },
  {
   "cell_type": "markdown",
   "metadata": {},
   "source": [
    "The function is still not perfect, and very few non-English apps might get past our filter, but this seems good enough at this point in my analysis — I shouldn't spend too much time on optimization at this point.\n",
    "\n",
    "Below, I use the is_english() function to filter out the non-English apps for both data sets:"
   ]
  },
  {
   "cell_type": "code",
   "execution_count": 16,
   "metadata": {},
   "outputs": [],
   "source": [
    "android_english = []\n",
    "ios_english = []\n",
    "\n",
    "for app in android_clean:\n",
    "    name = app[0]\n",
    "    if is_english(name):\n",
    "        android_english.append(app)\n",
    "        \n",
    "for app in ios:\n",
    "    name = app[0]\n",
    "    if is_english(name):\n",
    "        ios_english.append(app)\n",
    "        "
   ]
  },
  {
   "cell_type": "markdown",
   "metadata": {},
   "source": [
    "Can see that we're left with 9614 Android apps and 6183 iOS apps."
   ]
  },
  {
   "cell_type": "markdown",
   "metadata": {},
   "source": [
    "## Isolating the Free Apps"
   ]
  },
  {
   "cell_type": "markdown",
   "metadata": {},
   "source": [
    "As mentioned in the introduction. I only build apps that are free to download and install, and our main source of revenue consists of in-app ads. Our data sets contain both free and non-free apps, and we'll need to isolate only the free apps for our analysis. Below, we isolate the free apps for both our data sets."
   ]
  },
  {
   "cell_type": "code",
   "execution_count": 17,
   "metadata": {},
   "outputs": [
    {
     "name": "stdout",
     "output_type": "stream",
     "text": [
      "9226\n",
      "4056\n"
     ]
    }
   ],
   "source": [
    "android_final = []\n",
    "ios_final = []\n",
    "\n",
    "for app in android_english:\n",
    "    price = app[7]\n",
    "    if price == '0':\n",
    "        android_final.append(app)\n",
    "for app in ios_english:\n",
    "    price = app[4]\n",
    "    if price == '0.0':\n",
    "        ios_final.append(app)\n",
    "\n",
    "print(len(android_final))\n",
    "print(len(ios_final))\n",
    "        "
   ]
  },
  {
   "cell_type": "markdown",
   "metadata": {},
   "source": [
    "## Most Common Apps by Genre\n",
    "\n"
   ]
  },
  {
   "cell_type": "markdown",
   "metadata": {},
   "source": [
    "### Part one\n",
    "\n",
    "As I mentioned in the introduction, my aim is to determine the kinds of apps that are likely to attract more users because the revenues is highly influenced by the number of people using apps.\n",
    "\n",
    "To minimize risks and overhead, my validation strategy for an app idea is comprised of three steps:\n",
    "1. Build a minimal Android version of the app, and add it to Google Play.\n",
    "2. If the app has a good response from users, then develop it further \n",
    "3. If the app is profitable after six months, we also build an iOS version of the app and add it to the App Store\n",
    "\n",
    "Because the end goal is to add the app on both thr App Store and Google Play, I need to find app profiles that are succesful on both markets. For instance, a profile that might work well both markets might be a productivity app that makes use of gmamification.\n",
    "\n",
    "Let's begin the analysis by getting a sense of the most common genres for each market. For this, build a frequency table for the prime_genre column of the App Store data set, and the Genres and Category columns of the Google Play data set."
   ]
  },
  {
   "cell_type": "markdown",
   "metadata": {},
   "source": [
    "### Part two\n",
    "\n",
    "I'll build two functions I can use to analyze the frequency tables:\n",
    "- One function to generate frequency tables that show percentages.\n",
    "- Another function that I can use to display the percentages in a descending order."
   ]
  },
  {
   "cell_type": "code",
   "execution_count": 18,
   "metadata": {},
   "outputs": [],
   "source": [
    "def freq_table(dataset, index):\n",
    "    table = {}\n",
    "    total = 0\n",
    "    \n",
    "    for row in dataset:\n",
    "        total += 1\n",
    "        value = row[index]\n",
    "        if value in table:\n",
    "            table[value] += 1\n",
    "        else:\n",
    "            table[value] = 1\n",
    "        \n",
    "    table_percentage = {}\n",
    "    for key in table:\n",
    "        percentage = (table[key]/total)*100\n",
    "        table_percentage[key] = percentage\n",
    "    return table_percentage\n",
    "        \n",
    "def display_table(dataset, index):\n",
    "    table = freq_table(dataset, index)\n",
    "    table_display = []\n",
    "    \n",
    "    for key in table:\n",
    "        key_val_as_tuple = (table[key], key)\n",
    "        table_display.append(key_val_as_tuple)\n",
    "    \n",
    "    table_sorted = sorted(table_display, reverse = True)\n",
    "    for entry in table_sorted:\n",
    "        print(entry[1], ':', entry[0])"
   ]
  },
  {
   "cell_type": "markdown",
   "metadata": {},
   "source": [
    "### Part three"
   ]
  },
  {
   "cell_type": "markdown",
   "metadata": {},
   "source": [
    "We start by examining the frequency table for the prime_genre column of the App Store data set."
   ]
  },
  {
   "cell_type": "code",
   "execution_count": 19,
   "metadata": {},
   "outputs": [
    {
     "name": "stdout",
     "output_type": "stream",
     "text": [
      "Games : 55.64595660749507\n",
      "Entertainment : 8.234714003944774\n",
      "Photo & Video : 4.117357001972387\n",
      "Social Networking : 3.5256410256410255\n",
      "Education : 3.2544378698224854\n",
      "Shopping : 2.983234714003945\n",
      "Utilities : 2.687376725838264\n",
      "Lifestyle : 2.3175542406311638\n",
      "Finance : 2.0710059171597637\n",
      "Sports : 1.947731755424063\n",
      "Health & Fitness : 1.8737672583826428\n",
      "Music : 1.6518737672583828\n",
      "Book : 1.6272189349112427\n",
      "Productivity : 1.5285996055226825\n",
      "News : 1.4299802761341223\n",
      "Travel : 1.3806706114398422\n",
      "Food & Drink : 1.0601577909270217\n",
      "Weather : 0.7642998027613412\n",
      "Reference : 0.4930966469428008\n",
      "Navigation : 0.4930966469428008\n",
      "Business : 0.4930966469428008\n",
      "Catalogs : 0.22189349112426035\n",
      "Medical : 0.19723865877712032\n"
     ]
    }
   ],
   "source": [
    "display_table(ios_final, -5)"
   ]
  },
  {
   "cell_type": "markdown",
   "metadata": {},
   "source": [
    "We can see that among the free English apps, more than a half(55.65%) are games. Entertainment apps are close to 8% followed by phto and video apps, which are close to 4%. Only 3.53 of the apps are designed for social and networking apps, followed by education apps which amount for 3.23% of the apps in our data set.\n",
    "\n",
    "The general impression is that App Store(at least the part containing free English apps) is do,incated by apps that are designed for fun(games, entertainment, photo and video, social networking, sports, music, etc). While apps with practical purposes (education, shopping, utilies, productivity, lifestyle, etc) are more rare. However, the fact that fun apps are the most numerous doesn's also imply that they also have the greatest number of users - the demand might not be the same as the offer.\n",
    "\n",
    "Let's continue by examining the Genres and Category columns of the Google Play data set (two columns which seem to be related)."
   ]
  },
  {
   "cell_type": "code",
   "execution_count": 20,
   "metadata": {},
   "outputs": [
    {
     "name": "stdout",
     "output_type": "stream",
     "text": [
      "FAMILY : 18.42618686321266\n",
      "GAME : 9.473227834381097\n",
      "TOOLS : 8.140039020160417\n",
      "BUSINESS : 4.7257749837416\n",
      "PRODUCTIVITY : 3.891177108172556\n",
      "LIFESTYLE : 3.8478213743767613\n",
      "MEDICAL : 3.7177541729893777\n",
      "FINANCE : 3.598525905050943\n",
      "SPORTS : 3.479297637112508\n",
      "HEALTH_AND_FITNESS : 3.295035768480382\n",
      "COMMUNICATION : 3.2408411012356386\n",
      "PERSONALIZATION : 3.2191632343377417\n",
      "PHOTOGRAPHY : 2.904834164318231\n",
      "NEWS_AND_MAGAZINES : 2.8723173639713853\n",
      "SOCIAL : 2.6988944287882073\n",
      "SHOPPING : 2.5146325601560804\n",
      "TRAVEL_AND_LOCAL : 2.4279210925644916\n",
      "DATING : 2.12443095599393\n",
      "BOOKS_AND_REFERENCE : 2.070236288749187\n",
      "VIDEO_PLAYERS : 1.7233904183828312\n",
      "MAPS_AND_NAVIGATION : 1.3440277476696292\n",
      "EDUCATION : 1.322349880771732\n",
      "FOOD_AND_DRINK : 1.2247994797311943\n",
      "ENTERTAINMENT : 1.1814437459354\n",
      "LIBRARIES_AND_DEMO : 0.8996314762627358\n",
      "AUTO_AND_VEHICLES : 0.8887925428137872\n",
      "HOUSE_AND_HOME : 0.8779536093648386\n",
      "WEATHER : 0.7695642748753523\n",
      "EVENTS : 0.6828528072837633\n",
      "PARENTING : 0.6286581400390201\n",
      "ART_AND_DESIGN : 0.6178192065900715\n",
      "COMICS : 0.5961413396921742\n",
      "BEAUTY : 0.574463472794277\n"
     ]
    }
   ],
   "source": [
    "display_table(android_final, 1) # Category"
   ]
  },
  {
   "cell_type": "markdown",
   "metadata": {},
   "source": [
    "The landscape seems significantly different on Google Play: there are not that many apps designed for fun, and it seems that a good number of apps are designed for practical purposes (family, tools, business, lifestyle, productivity, etc.). However, if we investigate this further, we can see that the family category (which accounts for almost 19% of the apps) means mostly games for kids."
   ]
  },
  {
   "cell_type": "markdown",
   "metadata": {},
   "source": [
    "Even so, practical apps seem to have a better representation on Google Play compared to App Store. This picture is also confirmed by the frequency table we see for the Genres column:"
   ]
  },
  {
   "cell_type": "code",
   "execution_count": 21,
   "metadata": {},
   "outputs": [
    {
     "name": "stdout",
     "output_type": "stream",
     "text": [
      "Tools : 8.129200086711467\n",
      "Entertainment : 6.1023195317580745\n",
      "Education : 5.332755256882723\n",
      "Business : 4.7257749837416\n",
      "Productivity : 3.891177108172556\n",
      "Lifestyle : 3.836982440927813\n",
      "Medical : 3.7177541729893777\n",
      "Finance : 3.598525905050943\n",
      "Sports : 3.5551701712551487\n",
      "Health & Fitness : 3.295035768480382\n",
      "Communication : 3.2408411012356386\n",
      "Personalization : 3.2191632343377417\n",
      "Action : 3.0132234988077173\n",
      "Photography : 2.904834164318231\n",
      "News & Magazines : 2.8723173639713853\n",
      "Social : 2.6988944287882073\n",
      "Shopping : 2.5146325601560804\n",
      "Travel & Local : 2.4170821591155427\n",
      "Dating : 2.12443095599393\n",
      "Books & Reference : 2.070236288749187\n",
      "Simulation : 1.9726858877086493\n",
      "Arcade : 1.7884240190765228\n",
      "Video Players & Editors : 1.7017125514849338\n",
      "Casual : 1.7017125514849338\n",
      "Maps & Navigation : 1.3440277476696292\n",
      "Food & Drink : 1.2247994797311943\n",
      "Puzzle : 1.1164101452417081\n",
      "Racing : 0.9538261435074789\n",
      "Role Playing : 0.8996314762627358\n",
      "Libraries & Demo : 0.8996314762627358\n",
      "Strategy : 0.8887925428137872\n",
      "Auto & Vehicles : 0.8887925428137872\n",
      "House & Home : 0.8779536093648386\n",
      "Weather : 0.7695642748753523\n",
      "Events : 0.6828528072837633\n",
      "Adventure : 0.6503360069369174\n",
      "Comics : 0.5853024062432256\n",
      "Beauty : 0.574463472794277\n",
      "Art & Design : 0.574463472794277\n",
      "Parenting : 0.4769130717537394\n",
      "Card : 0.43355733795794493\n",
      "Educational;Education : 0.41187947106004774\n",
      "Casino : 0.41187947106004774\n",
      "Trivia : 0.40104053761109903\n",
      "Education;Education : 0.3685237372642532\n",
      "Board : 0.3685237372642532\n",
      "Educational : 0.3576848038153046\n",
      "Word : 0.24929546932581834\n",
      "Casual;Pretend Play : 0.2276176024279211\n",
      "Music : 0.20593973553002387\n",
      "Puzzle;Brain Games : 0.17342293518317797\n",
      "Racing;Action & Adventure : 0.16258400173422935\n",
      "Entertainment;Music & Video : 0.16258400173422935\n",
      "Casual;Action & Adventure : 0.15174506828528073\n",
      "Casual;Brain Games : 0.1409061348363321\n",
      "Arcade;Action & Adventure : 0.13006720138738348\n",
      "Educational;Pretend Play : 0.11922826793843486\n",
      "Action;Action & Adventure : 0.10838933448948623\n",
      "Simulation;Action & Adventure : 0.08671146759158899\n",
      "Education;Pretend Play : 0.08671146759158899\n",
      "Parenting;Education : 0.07587253414264036\n",
      "Entertainment;Brain Games : 0.07587253414264036\n",
      "Board;Brain Games : 0.07587253414264036\n",
      "Parenting;Music & Video : 0.06503360069369174\n",
      "Educational;Brain Games : 0.06503360069369174\n",
      "Casual;Creativity : 0.06503360069369174\n",
      "Art & Design;Creativity : 0.06503360069369174\n",
      "Role Playing;Pretend Play : 0.05419466724474312\n",
      "Role Playing;Action & Adventure : 0.04335573379579449\n",
      "Education;Music & Video : 0.04335573379579449\n",
      "Education;Creativity : 0.04335573379579449\n",
      "Puzzle;Action & Adventure : 0.03251680034684587\n",
      "Entertainment;Creativity : 0.03251680034684587\n",
      "Entertainment;Action & Adventure : 0.03251680034684587\n",
      "Educational;Creativity : 0.03251680034684587\n",
      "Educational;Action & Adventure : 0.03251680034684587\n",
      "Education;Brain Games : 0.03251680034684587\n",
      "Education;Action & Adventure : 0.03251680034684587\n",
      "Adventure;Action & Adventure : 0.03251680034684587\n",
      "Video Players & Editors;Music & Video : 0.021677866897897247\n",
      "Sports;Action & Adventure : 0.021677866897897247\n",
      "Simulation;Pretend Play : 0.021677866897897247\n",
      "Puzzle;Creativity : 0.021677866897897247\n",
      "Music;Music & Video : 0.021677866897897247\n",
      "Entertainment;Pretend Play : 0.021677866897897247\n",
      "Casual;Music & Video : 0.021677866897897247\n",
      "Casual;Education : 0.021677866897897247\n",
      "Board;Action & Adventure : 0.021677866897897247\n",
      "Video Players & Editors;Creativity : 0.010838933448948623\n",
      "Trivia;Education : 0.010838933448948623\n",
      "Travel & Local;Action & Adventure : 0.010838933448948623\n",
      "Tools;Education : 0.010838933448948623\n",
      "Strategy;Education : 0.010838933448948623\n",
      "Strategy;Creativity : 0.010838933448948623\n",
      "Strategy;Action & Adventure : 0.010838933448948623\n",
      "Simulation;Education : 0.010838933448948623\n",
      "Role Playing;Brain Games : 0.010838933448948623\n",
      "Racing;Pretend Play : 0.010838933448948623\n",
      "Puzzle;Education : 0.010838933448948623\n",
      "Parenting;Brain Games : 0.010838933448948623\n",
      "Music & Audio;Music & Video : 0.010838933448948623\n",
      "Lifestyle;Pretend Play : 0.010838933448948623\n",
      "Lifestyle;Education : 0.010838933448948623\n",
      "Health & Fitness;Education : 0.010838933448948623\n",
      "Health & Fitness;Action & Adventure : 0.010838933448948623\n",
      "Entertainment;Education : 0.010838933448948623\n",
      "Communication;Creativity : 0.010838933448948623\n",
      "Comics;Creativity : 0.010838933448948623\n",
      "Card;Action & Adventure : 0.010838933448948623\n",
      "Books & Reference;Education : 0.010838933448948623\n",
      "Art & Design;Pretend Play : 0.010838933448948623\n",
      "Art & Design;Action & Adventure : 0.010838933448948623\n",
      "Arcade;Pretend Play : 0.010838933448948623\n",
      "Adventure;Education : 0.010838933448948623\n"
     ]
    }
   ],
   "source": [
    "display_table(android_final, -4)"
   ]
  },
  {
   "cell_type": "markdown",
   "metadata": {},
   "source": [
    "The difference between the Genres and the Category columns is not crystal clear, but one thing we can notice is that the Genres column is much more granular (it has more categories). We're only looking for the bigger picture at the moment, so we'll only work with the Category column moving forward.\n",
    "\n",
    "Up to this point, we found that the App Store is dominated by apps designed for fun, while Google Play shows a more balanced landscape of both practical and for-fun apps. Now we'd like to get an idea about the kind of apps that have most users."
   ]
  },
  {
   "cell_type": "markdown",
   "metadata": {},
   "source": [
    "## Most Popular Apps by Genre on the App Store\n",
    "\n",
    "One way to find out what genres are the most popular (have the most users) is to calculate the average number of installs for each app genre. For the Google Play data set, we can find this information in the Installs column, but this information is missing for the App Store data set. As a workaround, we'll take the total number of user ratings as a proxy, which we can find in the rating_count_tot app.\n",
    "\n",
    "Let's start with calculating the average number of user ratings per app genre on the App Store. To do that, we'll need to do the following:\n",
    "\n",
    "- Isolate the apps of each genre\n",
    "- Add up the user ratings for the apps of that genre\n",
    "- Divide the sum by the number of apps belonging to that genre (not by the total number of apps)\n",
    "\n",
    "To calculate the average number of user ratings for each genre, we'll use a for loop inside of another for loop. This is an example of a for loop used inside another for loop:"
   ]
  }
 ],
 "metadata": {
  "kernelspec": {
   "display_name": "base",
   "language": "python",
   "name": "python3"
  },
  "language_info": {
   "codemirror_mode": {
    "name": "ipython",
    "version": 3
   },
   "file_extension": ".py",
   "mimetype": "text/x-python",
   "name": "python",
   "nbconvert_exporter": "python",
   "pygments_lexer": "ipython3",
   "version": "3.11.7"
  }
 },
 "nbformat": 4,
 "nbformat_minor": 2
}
